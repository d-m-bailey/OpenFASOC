{
  "nbformat": 4,
  "nbformat_minor": 0,
  "metadata": {
    "colab": {
      "provenance": [],
      "toc_visible": true,
      "include_colab_link": true
    },
    "kernelspec": {
      "name": "python3",
      "display_name": "Python 3"
    },
    "language_info": {
      "name": "python"
    }
  },
  "cells": [
    {
      "cell_type": "markdown",
      "metadata": {
        "id": "view-in-github",
        "colab_type": "text"
      },
      "source": [
        "<a href=\"https://colab.research.google.com/github/d-m-bailey/OpenFASOC/blob/main/Day%25202%2520-%25201505%2520-%2520Pitfalls%2520of%2520Open-Source%2520Chip%2520Design%2520Verification/open_source_BE_verification.ipynb\" target=\"_parent\"><img src=\"https://colab.research.google.com/assets/colab-badge.svg\" alt=\"Open In Colab\"/></a>"
      ]
    },
    {
      "cell_type": "markdown",
      "source": [
        "# Pitfalls of Open-Source Chip Design Verification<br>オープンソース設計検証での注意点\n",
        "US-Japan Semiconductor Workshop, May 15th, 2024<br>最先端集積回路設計に関する日米連携ワークショップ 2024年5月15日\n",
        "\n",
        "D. Mitch Bailey　ShuhariSystem<br>ベイリー・デビッド　シュハリシステム"
      ],
      "metadata": {
        "id": "KXrjYC7jYI-4"
      }
    },
    {
      "cell_type": "markdown",
      "source": [
        "# Overview  概要\n",
        "Open source EDA software and systems such as OpenROAD, yosys, magic, xschem, klayout, iverilog, hgspice, etc., have made it possible for anyone to design and layout a mixed-signal chip. While the final step of verifying that the design matches the layout is possible with open source tools, there are pitfalls that you should be aware of. This workshop will provide hands-on experience with back-end verification using actual designs that were taped out on the Google funded open-MPW shuttles.\n",
        "\n",
        "OpenROAD, yosys, magic, xschem, klayout, iverilog, hgspice などのオープンソースソフトウェアやシステムのお陰で、誰でもがアナログやディジタルのチップを設計して、レイアウトすることができます。最終的のデザインとレイアウトの一致を確認するステップもオープンソースのツールでできますが要注意点があります。このワークショップでは実際にGoogleのOpen-MPWで出されたチップのデータを各自で検証できます。"
      ],
      "metadata": {
        "id": "xPG5P8WSg42s"
      }
    },
    {
      "cell_type": "code",
      "source": [
        "import pandas as pd\n",
        "import os\n",
        "\n",
        "CONDA_PREFIX = os.environ.get('CONDA_PREFIX', None)\n",
        "if not CONDA_PREFIX:\n",
        "  import condacolab\n",
        "  CONDA_PREFIX = condacolab.PREFIX"
      ],
      "metadata": {
        "id": "5dHhq5m6wTI2"
      },
      "execution_count": null,
      "outputs": []
    },
    {
      "cell_type": "code",
      "source": [
        "# @title\n",
        "%%writefile environment.yml\n",
        "channels:\n",
        "  - litex-hub\n",
        "dependencies:\n",
        "  - open_pdks.sky130a\n",
        "  - magic  - netgen"
      ],
      "metadata": {
        "colab": {
          "base_uri": "https://localhost:8080/"
        },
        "id": "XhLeFkF_H9pm",
        "outputId": "f8c8ba9f-c46f-4695-f64e-fbdd1ba4a17b",
        "cellView": "form"
      },
      "execution_count": null,
      "outputs": [
        {
          "output_type": "stream",
          "name": "stdout",
          "text": [
            "Overwriting environment.yml\n"
          ]
        }
      ]
    },
    {
      "cell_type": "code",
      "source": [
        "# Clone the precheck environment\n",
        "%cd /content\n",
        "! git clone https://github.com/d-m-bailey/mpw_precheck -b 2406\n",
        "%env LVS_ROOT=/content/mpw_precheck/checks/be_checks"
      ],
      "metadata": {
        "id": "Mk5M_rlrpVjg"
      },
      "execution_count": null,
      "outputs": []
    },
    {
      "cell_type": "markdown",
      "source": [
        "# Google Open-MPW repos\n",
        "The Google open mpw repos are located [here](https://foss-eda-tools.googlesource.com/third_party/shuttle/sky130). There were 8 shuttles with 40 designs each, so there are 320 designs to choose from. The designs for each shuttle are summarized in a `manifest.csv` file of the `foundry` repo of each shuttle. For example, the list of designs for `mpw-003` are [here](https://foss-eda-tools.googlesource.com/third_party/shuttle/sky130/mpw-003/foundry/+/refs/heads/main/manifest-mpw-003.csv).\n",
        "\n",
        "GoogleのオープンMPWのrepoは[ここ](https://foss-eda-tools.googlesource.com/third_party/shuttle/sky130)にあります。8回のシャトルがあって、各シャトルに40個のチップが乗っていたので合計320デザインから選べます。各シャトルに乗っているデザインがそれぞれの`foundry` repoの`manifest.csv`にリストされています。例として、`mpw-003`のデザインリストは[ここ](https://foss-eda-tools.googlesource.com/third_party/shuttle/sky130/mpw-003/foundry/+/refs/heads/main/manifest-mpw-003.csv)にあります。\n",
        "\n",
        "For previously published results see the following discussions:<br>\n",
        "すでに発表された検証結果を以下で確認できます：\n",
        "* [sky130/mpw-002](https://github.com/d-m-bailey/extra_be_checks/discussions/26)\n",
        "* [sky130/mpw-003](https://github.com/d-m-bailey/extra_be_checks/discussions/27)\n",
        "* [sky130/mpw-004](https://github.com/d-m-bailey/extra_be_checks/discussions/35)\n",
        "* [sky130/mpw-006](https://github.com/d-m-bailey/extra_be_checks/discussions/39)\n"
      ],
      "metadata": {
        "id": "Nssto4gbqLr9"
      }
    }
  ]
}